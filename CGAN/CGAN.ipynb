{
 "cells": [
  {
   "cell_type": "markdown",
   "metadata": {},
   "source": [
    "This code is based on https://github.com/eriklindernoren/PyTorch-GAN/blob/master/implementations/cgan/cgan.py"
   ]
  },
  {
   "cell_type": "code",
   "execution_count": null,
   "metadata": {},
   "outputs": [],
   "source": [
    "import torch\n",
    "import torch.nn as nn\n",
    "\n",
    "from torchvision import datasets\n",
    "import torchvision.transforms as transforms\n",
    "from torchvision.utils import save_image\n",
    "from torch.utils.data import DataLoader\n",
    "\n",
    "import os\n",
    "import numpy as np\n",
    "from tqdm import tqdm\n",
    "\n",
    "device = torch.device('cuda' if torch.cuda.is_available() else 'cpu')"
   ]
  },
  {
   "cell_type": "markdown",
   "metadata": {},
   "source": [
    "# 1. Dataset"
   ]
  },
  {
   "cell_type": "code",
   "execution_count": null,
   "metadata": {},
   "outputs": [],
   "source": [
    "data_dir = './data'\n",
    "os.makedirs(data_dir, exist_ok=True)"
   ]
  },
  {
   "cell_type": "code",
   "execution_count": null,
   "metadata": {},
   "outputs": [],
   "source": [
    "params = {\n",
    "    'num_classes': 10,\n",
    "    'latent_space': 100,\n",
    "    'input_size': (1,28,28),\n",
    "    'lr': 2e-4,\n",
    "    'b1': 0.5,\n",
    "    'b2': 0.999,\n",
    "    'epochs': 100,\n",
    "    'batch_size': 64,\n",
    "}"
   ]
  },
  {
   "cell_type": "code",
   "execution_count": null,
   "metadata": {},
   "outputs": [],
   "source": [
    "train_transform = transforms.Compose([\n",
    "    transforms.ToTensor(),\n",
    "    transforms.Normalize([0.5],[0.5]),\n",
    "    ])\n",
    "train_dataset = datasets.MNIST(data_dir, train=True, transform=train_transform, download=True)\n",
    "train_dataloader = DataLoader(train_dataset, params['batch_size'], shuffle=True)"
   ]
  },
  {
   "cell_type": "markdown",
   "metadata": {},
   "source": [
    "# 2. Model"
   ]
  },
  {
   "cell_type": "code",
   "execution_count": null,
   "metadata": {},
   "outputs": [],
   "source": [
    "class Generator(nn.Module):\n",
    "    def __init__(self, params):\n",
    "        super().__init__()\n",
    "        self.num_classes = params['num_classes']\n",
    "        self.latent_dim = params['latent_space']\n",
    "        self.input_size = params['input_size']\n",
    "\n",
    "        # Label embedding matrix\n",
    "        self.label_emb = nn.Embedding(self.num_classes, self.num_classes)\n",
    "\n",
    "        self.model = nn.Sequential(\n",
    "            *self.block(self.latent_dim + self.num_classes, 128, normalize=False),\n",
    "            *self.block(128,256),\n",
    "            *self.block(256,512),\n",
    "            *self.block(512,1024),\n",
    "            nn.Linear(1024, int(np.prod(self.input_size))),\n",
    "            nn.Tanh()\n",
    "        )\n",
    "        \n",
    "    def block(self, in_channels, out_channels, normalize=True):\n",
    "        layers = []\n",
    "        layers.append(nn.Linear(in_channels, out_channels)) # fc layer\n",
    "        if normalize:\n",
    "            layers.append(nn.BatchNorm1d(out_channels, 0.8)) # Batch Normalization\n",
    "        layers.append(nn.LeakyReLU(0.2)) # LeakyReLU\n",
    "        return layers\n",
    "\n",
    "    def forward(self, noise, labels):\n",
    "        # Concatenate label embedding and image to produce input\n",
    "        gen_input = torch.cat((self.label_emb(labels), noise), -1)\n",
    "        img = self.model(gen_input)\n",
    "        img = img.view(img.size(0), *self.input_size)\n",
    "        return img"
   ]
  },
  {
   "cell_type": "code",
   "execution_count": null,
   "metadata": {},
   "outputs": [],
   "source": [
    "class Discriminator(nn.Module):\n",
    "    def __init__(self,params):\n",
    "        super().__init__()\n",
    "        self.num_classes = params['num_classes']\n",
    "        self.input_size = params['input_size']\n",
    "\n",
    "        # Label embedding matrix\n",
    "        self.label_emb = nn.Embedding(self.num_classes, self.num_classes)\n",
    "\n",
    "        self.model = nn.Sequential(\n",
    "            nn.Linear(self.num_classes + int(np.prod(self.input_size)), 512),\n",
    "            nn.LeakyReLU(0.2, inplace=True),\n",
    "            nn.Linear(512, 512),\n",
    "            nn.Dropout(0.4),\n",
    "            nn.LeakyReLU(0.2, inplace=True),\n",
    "            nn.Linear(512, 512),\n",
    "            nn.Dropout(0.4),\n",
    "            nn.LeakyReLU(0.2, inplace=True),\n",
    "            nn.Linear(512, 1),\n",
    "        )\n",
    "\n",
    "    def forward(self, img, labels):\n",
    "        # Concatenate label embedding and image to produce input\n",
    "        dis_input = torch.cat((img.view(img.size(0), -1), self.label_emb(labels)), -1)\n",
    "        validity = self.model(dis_input)\n",
    "        return validity"
   ]
  },
  {
   "cell_type": "markdown",
   "metadata": {},
   "source": [
    "# 3. Train"
   ]
  },
  {
   "cell_type": "code",
   "execution_count": null,
   "metadata": {},
   "outputs": [],
   "source": [
    "# Loss function\n",
    "adversarial_loss = torch.nn.MSELoss()\n",
    "\n",
    "# Initialize generator and discriminator\n",
    "generator = Generator(params)\n",
    "discriminator = Discriminator(params)\n",
    "\n",
    "# Optimizers\n",
    "optimizer_G = torch.optim.Adam(generator.parameters(), lr=params['lr'], betas=(params['b1'], params['b2']))\n",
    "optimizer_D = torch.optim.Adam(discriminator.parameters(), lr=params['lr'], betas=(params['b1'], params['b2']))"
   ]
  },
  {
   "cell_type": "code",
   "execution_count": null,
   "metadata": {},
   "outputs": [],
   "source": [
    "def sample_image(n_row, batches_done):\n",
    "    \"\"\"Saves a grid of generated digits ranging from 0 to n_classes\"\"\"\n",
    "    # Sample noise\n",
    "    z = torch.randn(n_row ** 2, params['latent_space']).to(device)\n",
    "    # Get labels ranging from 0 to n_classes for n rows\n",
    "    labels = np.array([num for _ in range(n_row) for num in range(n_row)])\n",
    "    labels = torch.tensor(labels)\n",
    "    gen_imgs = generator(z, labels)\n",
    "    save_image(gen_imgs.data, \"images/%d.png\" % batches_done, nrow=n_row, normalize=True)"
   ]
  },
  {
   "cell_type": "code",
   "execution_count": null,
   "metadata": {},
   "outputs": [],
   "source": [
    "batch_count = 0\n",
    "\n",
    "for epoch in tqdm(range(params['epochs'])):\n",
    "    for i, (imgs, labels) in enumerate(train_dataloader):\n",
    "        \n",
    "        # Adversarial ground truths\n",
    "        valid = torch.Tensor(imgs.size(0), 1).fill_(1.0).to(device)\n",
    "        fake = torch.Tensor(imgs.size(0), 1).fill_(0.0).to(device)\n",
    "\n",
    "        real_imgs = imgs.to(device)\n",
    "        real_labels = labels.to(device)\n",
    "\n",
    "        #-----------------\n",
    "        # Train Generator \n",
    "        #-----------------\n",
    "        optimizer_G.zero_grad()\n",
    "\n",
    "        # Sample noise as Generator input\n",
    "        z = torch.randn(imgs.size(0), params['latent_space']).to(device)\n",
    "        gen_labels = torch.randint(0, params['num_classes'], (imgs.size(0),)).to(device)\n",
    "        \n",
    "        # Generate a batch of images\n",
    "        gen_imgs = generator(z, gen_labels) \n",
    "\n",
    "        # Loss measure Generator's ability to fool the discriminator\n",
    "        validity = discriminator(gen_imgs, gen_labels)\n",
    "        g_loss = adversarial_loss(validity, valid) \n",
    "        \n",
    "        g_loss.backward()\n",
    "        optimizer_G.step()\n",
    "\n",
    "        #---------------------\n",
    "        # Train Discriminator \n",
    "        #---------------------\n",
    "\n",
    "        optimizer_D.zero_grad()\n",
    "\n",
    "        # Measure discriminator's ability to classify real from generated samples\n",
    "        real_loss = adversarial_loss(discriminator(real_imgs, real_labels), valid)\n",
    "        fake_loss = adversarial_loss(discriminator(gen_imgs.detach(), labels), fake)\n",
    "        d_loss = (real_loss + fake_loss) / 2\n",
    "\n",
    "        d_loss.backward()\n",
    "        optimizer_D.step()\n",
    "\n",
    "\n",
    "        batches_done = epoch * len(train_dataloader) + i\n",
    "        if batches_done % 1000 == 0:      \n",
    "            print(\n",
    "                \"[Epoch %d/%d] [D loss: %f] [G loss: %f]\"\n",
    "                % (epoch, params['epochs'], d_loss.item(), g_loss.item())\n",
    "            )\n",
    "            sample_image(n_row=10, batches_done=batches_done)"
   ]
  }
 ],
 "metadata": {
  "interpreter": {
   "hash": "47b5dfaaabec2ca744e04a202a1b27c8a964ba9b610bd23d406ba35440559b3a"
  },
  "kernelspec": {
   "display_name": "Python 3.9.7 ('GAN')",
   "language": "python",
   "name": "python3"
  },
  "language_info": {
   "codemirror_mode": {
    "name": "ipython",
    "version": 3
   },
   "file_extension": ".py",
   "mimetype": "text/x-python",
   "name": "python",
   "nbconvert_exporter": "python",
   "pygments_lexer": "ipython3",
   "version": "3.9.7"
  },
  "orig_nbformat": 4
 },
 "nbformat": 4,
 "nbformat_minor": 2
}
